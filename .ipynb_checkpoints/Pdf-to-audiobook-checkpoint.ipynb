{
 "cells": [
  {
   "cell_type": "code",
   "execution_count": 2,
   "metadata": {},
   "outputs": [],
   "source": [
    "# Importing the required libraries \n",
    "import fitz\n",
    "import json\n",
    "from tkinter import Tk\n",
    "from tkinter.filedialog import askopenfilename\n",
    "from tqdm import tqdm\n",
    "# import tqdm\n",
    "import copy \n",
    "import os\n",
    "from google.cloud import texttospeech"
   ]
  },
  {
   "cell_type": "code",
   "execution_count": 3,
   "metadata": {},
   "outputs": [],
   "source": [
    "# Converting the pdf to text \n",
    "def pdfToText(filename):\n",
    "    doc = fitz.open(filename)\n",
    "    allText = ''\n",
    "    count = 1\n",
    "    pageNo = 1\n",
    "    for page in doc:\n",
    "        sizes =[]\n",
    "        texts = []\n",
    "        bold = []\n",
    "\n",
    "        displayList = page.getDisplayList()\n",
    "\n",
    "        textPage = displayList.getTextPage()\n",
    "\n",
    "        getJsonStr = textPage.extractJSON()\n",
    "\n",
    "        getJson = json.loads(getJsonStr)\n",
    "\n",
    "        for block in getJson['blocks']:\n",
    "            for line in block['lines']:\n",
    "                allText =  allText + '\\n'\n",
    "                for span in line['spans']:\n",
    "                    sentence = span['text']\n",
    "                    font_size = span['size']\n",
    "                    font = span['font'].lower()\n",
    "                    \n",
    "                    if sentence.replace(\" \", \"\").isdigit():\n",
    "                        continue\n",
    "                    \n",
    "#                     font_median = font_analysis(filename)\n",
    "                    \n",
    "#                     if font_size > 20 and 'bold' in font:\n",
    "#                         allText += f'Title {count}' + '\\n' + sentence\n",
    "#                         count += 1\n",
    "#                         continue\n",
    "                        \n",
    "                    allText += sentence\n",
    "        pageNo += 1\n",
    "        \n",
    "    return allText"
   ]
  },
  {
   "cell_type": "code",
   "execution_count": 5,
   "metadata": {},
   "outputs": [
    {
     "name": "stderr",
     "output_type": "stream",
     "text": [
      " 12%|█▎        | 1/8 [00:10<01:11, 10.25s/it]"
     ]
    },
    {
     "name": "stdout",
     "output_type": "stream",
     "text": [
      "Audio content written to file rev-cnn-dac2018_audio_folder/part_1.mp3\n"
     ]
    },
    {
     "name": "stderr",
     "output_type": "stream",
     "text": [
      "\r",
      " 25%|██▌       | 2/8 [00:18<00:57,  9.64s/it]"
     ]
    },
    {
     "name": "stdout",
     "output_type": "stream",
     "text": [
      "Audio content written to file rev-cnn-dac2018_audio_folder/part_2.mp3\n"
     ]
    },
    {
     "name": "stderr",
     "output_type": "stream",
     "text": [
      "\r",
      " 38%|███▊      | 3/8 [00:29<00:50, 10.01s/it]"
     ]
    },
    {
     "name": "stdout",
     "output_type": "stream",
     "text": [
      "Audio content written to file rev-cnn-dac2018_audio_folder/part_3.mp3\n"
     ]
    },
    {
     "name": "stderr",
     "output_type": "stream",
     "text": [
      "\r",
      " 50%|█████     | 4/8 [00:39<00:40, 10.07s/it]"
     ]
    },
    {
     "name": "stdout",
     "output_type": "stream",
     "text": [
      "Audio content written to file rev-cnn-dac2018_audio_folder/part_4.mp3\n"
     ]
    },
    {
     "name": "stderr",
     "output_type": "stream",
     "text": [
      "\r",
      " 62%|██████▎   | 5/8 [00:52<00:33, 11.03s/it]"
     ]
    },
    {
     "name": "stdout",
     "output_type": "stream",
     "text": [
      "Audio content written to file rev-cnn-dac2018_audio_folder/part_5.mp3\n"
     ]
    },
    {
     "name": "stderr",
     "output_type": "stream",
     "text": [
      "\r",
      " 75%|███████▌  | 6/8 [01:01<00:20, 10.28s/it]"
     ]
    },
    {
     "name": "stdout",
     "output_type": "stream",
     "text": [
      "Audio content written to file rev-cnn-dac2018_audio_folder/part_6.mp3\n"
     ]
    },
    {
     "name": "stderr",
     "output_type": "stream",
     "text": [
      "\r",
      " 88%|████████▊ | 7/8 [01:12<00:10, 10.51s/it]"
     ]
    },
    {
     "name": "stdout",
     "output_type": "stream",
     "text": [
      "Audio content written to file rev-cnn-dac2018_audio_folder/part_7.mp3\n"
     ]
    },
    {
     "name": "stderr",
     "output_type": "stream",
     "text": [
      "100%|██████████| 8/8 [01:17<00:00,  9.71s/it]"
     ]
    },
    {
     "name": "stdout",
     "output_type": "stream",
     "text": [
      "Audio content written to file rev-cnn-dac2018_audio_folder/part_8.mp3\n"
     ]
    },
    {
     "name": "stderr",
     "output_type": "stream",
     "text": [
      "\n"
     ]
    }
   ],
   "source": [
    "Tk().withdraw() # we don't want a full GUI, so keep the root window from appearing\n",
    "\n",
    "# open the dialog GUI to Select the directory location\n",
    "filelocation = askopenfilename() \n",
    "\n",
    "# Converting the pdf to text(str)\n",
    "allText = pdfToText(filelocation)\n",
    "\n",
    "\n",
    "# Importing Google Vision private key file for the service \n",
    "os.environ[\"GOOGLE_APPLICATION_CREDENTIALS\"] = \"/Users/hiteshsaaimanancherypanneerselvam/Documents/Development_Projects/pdf_to_audiobook/My First Project-1f1b9b4bc545.json\"\n",
    "\n",
    "\n",
    "if len(allText) >= 4800:\n",
    "    #calculating the iteration for pdf text by 4800 (as google vision can take only 5000 per request)\n",
    "    tot_iteration, tot_division = len(allText)//4800, len(allText)/4800\n",
    "\n",
    "    # Checking if partition of the has to be done\n",
    "    start = 0 \n",
    "    end = 4800\n",
    "    countOfPart = 1\n",
    "    for i in range(0, tot_iteration):\n",
    "        globals()['part%s' % countOfPart] = allText[start:end]\n",
    "        countOfPart += 1\n",
    "        start = copy.deepcopy(end) \n",
    "        end = end + 4800\n",
    "\n",
    "    if len(allText)%4800 != 0:\n",
    "\n",
    "        leftover = int(4800*(tot_division - tot_iteration))\n",
    "        final_end = start + leftover\n",
    "\n",
    "        globals()['part%s' % countOfPart] = allText[start: end]\n",
    "\n",
    "    \n",
    "\n",
    "    # Instantiates a client\n",
    "    client = texttospeech.TextToSpeechClient()\n",
    "\n",
    "\n",
    "    for part in tqdm(range(1, countOfPart+1)):\n",
    "        # Set the text input to be synthesized\n",
    "        synthesis_input = texttospeech.SynthesisInput(text= globals()['part%s' % part])\n",
    "\n",
    "        # Build the voice request, select the language code (\"en-US\") and the ssml\n",
    "        # voice gender (\"neutral\")\n",
    "        voice = texttospeech.VoiceSelectionParams(\n",
    "            language_code=\"en-US\", ssml_gender=texttospeech.SsmlVoiceGender.NEUTRAL\n",
    "        )\n",
    "\n",
    "        # Select the type of audio file you want returned\n",
    "        audio_config = texttospeech.AudioConfig(\n",
    "            audio_encoding=texttospeech.AudioEncoding.MP3\n",
    "        )\n",
    "\n",
    "        # Perform the text-to-speech request on the text input with the selected\n",
    "        # voice parameters and audio file type\n",
    "        response = client.synthesize_speech(\n",
    "            input=synthesis_input, voice=voice, audio_config=audio_config\n",
    "        )\n",
    "\n",
    "        file_name = filelocation.split('/')[-1].split('.')[0]\n",
    "        folder_name = f'{file_name}_audio_folder'\n",
    "        if not os.path.exists(folder_name):\n",
    "            os.makedirs(folder_name)\n",
    "        # The response's audio_content is binary.\n",
    "        with open(f'{folder_name}/part_{part}.mp3', \"wb\") as out:\n",
    "            # Write the response to the output file.\n",
    "            out.write(response.audio_content)\n",
    "            print(f'Audio content written to file {folder_name}/part_{part}.mp3')\n",
    "else:\n",
    "    \n",
    "    # Instantiates a client\n",
    "    client = texttospeech.TextToSpeechClient()\n",
    "\n",
    "    # Set the text input to be synthesized\n",
    "    synthesis_input = texttospeech.SynthesisInput(text= allText)\n",
    "\n",
    "    # Build the voice request, select the language code (\"en-US\") and the ssml\n",
    "    # voice gender (\"neutral\")\n",
    "    voice = texttospeech.VoiceSelectionParams(\n",
    "        language_code=\"en-US\", ssml_gender=texttospeech.SsmlVoiceGender.NEUTRAL\n",
    "    )\n",
    "\n",
    "    # Select the type of audio file you want returned\n",
    "    audio_config = texttospeech.AudioConfig(\n",
    "        audio_encoding=texttospeech.AudioEncoding.MP3\n",
    "    )\n",
    "\n",
    "    # Perform the text-to-speech request on the text input with the selected\n",
    "    # voice parameters and audio file type\n",
    "    response = client.synthesize_speech(\n",
    "        input=synthesis_input, voice=voice, audio_config=audio_config\n",
    "    )\n",
    "\n",
    "    file_name = filelocation.split('/')[-1].split('.')[0]\n",
    "    folder_name = f'{file_name}_audio_folder'\n",
    "    \n",
    "    if not os.path.exists(folder_name):\n",
    "        os.makedirs(folder_name)\n",
    "    # The response's audio_content is binary.\n",
    "    with open(f'{folder_name}/{file_name}_audio.mp3', \"wb\") as out:\n",
    "        # Write the response to the output file.\n",
    "        out.write(response.audio_content)\n",
    "        print(f'Audio content written to file {folder_name}/{file_name}_audio.mp3')\n",
    "\n",
    "\n",
    "    "
   ]
  },
  {
   "cell_type": "markdown",
   "metadata": {},
   "source": [
    "## TESTING "
   ]
  },
  {
   "cell_type": "code",
   "execution_count": 23,
   "metadata": {},
   "outputs": [
    {
     "data": {
      "text/plain": [
       "'acv/abc.pdf'"
      ]
     },
     "execution_count": 23,
     "metadata": {},
     "output_type": "execute_result"
    }
   ],
   "source": [
    "final_file = gTTS(text=string_of_text, lang='en')  # store file in variable\n",
    "final_file.save(\"Generated Speech.mp3\")"
   ]
  }
 ],
 "metadata": {
  "kernelspec": {
   "display_name": "Python (testing_env)",
   "language": "python",
   "name": "testing_env"
  },
  "language_info": {
   "codemirror_mode": {
    "name": "ipython",
    "version": 3
   },
   "file_extension": ".py",
   "mimetype": "text/x-python",
   "name": "python",
   "nbconvert_exporter": "python",
   "pygments_lexer": "ipython3",
   "version": "3.6.12"
  }
 },
 "nbformat": 4,
 "nbformat_minor": 4
}
